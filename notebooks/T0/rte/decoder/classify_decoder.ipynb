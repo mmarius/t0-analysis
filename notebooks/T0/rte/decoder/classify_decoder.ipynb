{
 "cells": [
  {
   "cell_type": "code",
   "execution_count": 1,
   "metadata": {},
   "outputs": [],
   "source": [
    "import os\n",
    "\n",
    "import numpy as np\n",
    "from sklearn.linear_model import LogisticRegression\n",
    "\n",
    "from utils import load_hidden_representations_from_hdf5, read_templates_from_file"
   ]
  },
  {
   "cell_type": "markdown",
   "metadata": {},
   "source": [
    "----"
   ]
  },
  {
   "cell_type": "code",
   "execution_count": 2,
   "metadata": {},
   "outputs": [],
   "source": [
    "# params\n",
    "log_dir = \"/logfiles\"\n",
    "model = \"bigscience-T0\"\n",
    "module = \"decoder\"\n",
    "task = \"rte\""
   ]
  },
  {
   "cell_type": "code",
   "execution_count": 3,
   "metadata": {},
   "outputs": [],
   "source": [
    "# assertions\n",
    "assert model == \"bigscience-T0\"\n",
    "assert module == \"decoder\"\n",
    "assert task == \"rte\""
   ]
  },
  {
   "cell_type": "markdown",
   "metadata": {},
   "source": [
    "## Prompts"
   ]
  },
  {
   "cell_type": "code",
   "execution_count": 4,
   "metadata": {},
   "outputs": [
    {
     "data": {
      "text/html": [
       "<div>\n",
       "<style scoped>\n",
       "    .dataframe tbody tr th:only-of-type {\n",
       "        vertical-align: middle;\n",
       "    }\n",
       "\n",
       "    .dataframe tbody tr th {\n",
       "        vertical-align: top;\n",
       "    }\n",
       "\n",
       "    .dataframe thead th {\n",
       "        text-align: right;\n",
       "    }\n",
       "</style>\n",
       "<table border=\"1\" class=\"dataframe\">\n",
       "  <thead>\n",
       "    <tr style=\"text-align: right;\">\n",
       "      <th></th>\n",
       "      <th>name</th>\n",
       "      <th>template</th>\n",
       "      <th>category</th>\n",
       "      <th>includes_targets</th>\n",
       "      <th>targets</th>\n",
       "      <th>target_ids</th>\n",
       "      <th>shuffle</th>\n",
       "    </tr>\n",
       "  </thead>\n",
       "  <tbody>\n",
       "    <tr>\n",
       "      <th>0</th>\n",
       "      <td>gpt_3_yes_no_with_targets</td>\n",
       "      <td>{premise} Question: {hypothesis} Yes or No?</td>\n",
       "      <td>instructive</td>\n",
       "      <td>True</td>\n",
       "      <td>▁Yes, ▁No</td>\n",
       "      <td>0, 1</td>\n",
       "      <td>False</td>\n",
       "    </tr>\n",
       "    <tr>\n",
       "      <th>1</th>\n",
       "      <td>mnli_crowdsource_with_targets</td>\n",
       "      <td>{premise} Using only the above description and...</td>\n",
       "      <td>instructive</td>\n",
       "      <td>True</td>\n",
       "      <td>▁Yes, ▁No</td>\n",
       "      <td>0, 1</td>\n",
       "      <td>False</td>\n",
       "    </tr>\n",
       "    <tr>\n",
       "      <th>2</th>\n",
       "      <td>based_on_previous_passage_with_targets</td>\n",
       "      <td>{premise} Based on the previous passage, is it...</td>\n",
       "      <td>instructive</td>\n",
       "      <td>True</td>\n",
       "      <td>▁Yes, ▁No</td>\n",
       "      <td>0, 1</td>\n",
       "      <td>False</td>\n",
       "    </tr>\n",
       "    <tr>\n",
       "      <th>3</th>\n",
       "      <td>infer_with_targets</td>\n",
       "      <td>Suppose {premise} Can we infer that \"{hypothes...</td>\n",
       "      <td>instructive</td>\n",
       "      <td>True</td>\n",
       "      <td>▁Yes, ▁No</td>\n",
       "      <td>0, 1</td>\n",
       "      <td>False</td>\n",
       "    </tr>\n",
       "    <tr>\n",
       "      <th>4</th>\n",
       "      <td>follow_with_targets</td>\n",
       "      <td>Given that {premise} Does it follow that {hypo...</td>\n",
       "      <td>instructive</td>\n",
       "      <td>True</td>\n",
       "      <td>▁Yes, ▁No</td>\n",
       "      <td>0, 1</td>\n",
       "      <td>False</td>\n",
       "    </tr>\n",
       "    <tr>\n",
       "      <th>5</th>\n",
       "      <td>imply_with_targets</td>\n",
       "      <td>{premise} Question: Does this imply that \"{hyp...</td>\n",
       "      <td>instructive</td>\n",
       "      <td>True</td>\n",
       "      <td>▁Yes, ▁No</td>\n",
       "      <td>0, 1</td>\n",
       "      <td>False</td>\n",
       "    </tr>\n",
       "    <tr>\n",
       "      <th>6</th>\n",
       "      <td>guaranteed_with_targets</td>\n",
       "      <td>Given {premise} Is it guaranteed true that \"{h...</td>\n",
       "      <td>instructive</td>\n",
       "      <td>True</td>\n",
       "      <td>▁Yes, ▁No</td>\n",
       "      <td>0, 1</td>\n",
       "      <td>False</td>\n",
       "    </tr>\n",
       "    <tr>\n",
       "      <th>7</th>\n",
       "      <td>justified_with_targets</td>\n",
       "      <td>{premise} Are we justified in saying that \"{hy...</td>\n",
       "      <td>instructive</td>\n",
       "      <td>True</td>\n",
       "      <td>▁Yes, ▁No</td>\n",
       "      <td>0, 1</td>\n",
       "      <td>False</td>\n",
       "    </tr>\n",
       "    <tr>\n",
       "      <th>8</th>\n",
       "      <td>must_be_true_with_targets</td>\n",
       "      <td>Given that {premise} Therefore, it must be tru...</td>\n",
       "      <td>instructive</td>\n",
       "      <td>True</td>\n",
       "      <td>▁Yes, ▁No</td>\n",
       "      <td>0, 1</td>\n",
       "      <td>False</td>\n",
       "    </tr>\n",
       "    <tr>\n",
       "      <th>9</th>\n",
       "      <td>should_assume_with_targets</td>\n",
       "      <td>Given {premise} Should we assume that \"{hypoth...</td>\n",
       "      <td>instructive</td>\n",
       "      <td>True</td>\n",
       "      <td>▁Yes, ▁No</td>\n",
       "      <td>0, 1</td>\n",
       "      <td>False</td>\n",
       "    </tr>\n",
       "    <tr>\n",
       "      <th>10</th>\n",
       "      <td>gpt_3_true_false_with_targets</td>\n",
       "      <td>{premise} Question: {hypothesis} True or False?</td>\n",
       "      <td>instructive</td>\n",
       "      <td>True</td>\n",
       "      <td>▁True, ▁Fal</td>\n",
       "      <td>0, 1</td>\n",
       "      <td>False</td>\n",
       "    </tr>\n",
       "    <tr>\n",
       "      <th>11</th>\n",
       "      <td>gpt_3_cat_dog_with_targets</td>\n",
       "      <td>{premise} Question: {hypothesis} Cat or Dog?</td>\n",
       "      <td>instructive</td>\n",
       "      <td>True</td>\n",
       "      <td>▁Cat, ▁Dog</td>\n",
       "      <td>0, 1</td>\n",
       "      <td>False</td>\n",
       "    </tr>\n",
       "    <tr>\n",
       "      <th>12</th>\n",
       "      <td>gpt_3_yes_no_without_targets</td>\n",
       "      <td>{premise} Question: {hypothesis}?</td>\n",
       "      <td>instructive</td>\n",
       "      <td>False</td>\n",
       "      <td>▁Yes, ▁No</td>\n",
       "      <td>0, 1</td>\n",
       "      <td>False</td>\n",
       "    </tr>\n",
       "  </tbody>\n",
       "</table>\n",
       "</div>"
      ],
      "text/plain": [
       "                                      name  \\\n",
       "0                gpt_3_yes_no_with_targets   \n",
       "1            mnli_crowdsource_with_targets   \n",
       "2   based_on_previous_passage_with_targets   \n",
       "3                       infer_with_targets   \n",
       "4                      follow_with_targets   \n",
       "5                       imply_with_targets   \n",
       "6                  guaranteed_with_targets   \n",
       "7                   justified_with_targets   \n",
       "8                must_be_true_with_targets   \n",
       "9               should_assume_with_targets   \n",
       "10           gpt_3_true_false_with_targets   \n",
       "11              gpt_3_cat_dog_with_targets   \n",
       "12            gpt_3_yes_no_without_targets   \n",
       "\n",
       "                                             template     category  \\\n",
       "0         {premise} Question: {hypothesis} Yes or No?  instructive   \n",
       "1   {premise} Using only the above description and...  instructive   \n",
       "2   {premise} Based on the previous passage, is it...  instructive   \n",
       "3   Suppose {premise} Can we infer that \"{hypothes...  instructive   \n",
       "4   Given that {premise} Does it follow that {hypo...  instructive   \n",
       "5   {premise} Question: Does this imply that \"{hyp...  instructive   \n",
       "6   Given {premise} Is it guaranteed true that \"{h...  instructive   \n",
       "7   {premise} Are we justified in saying that \"{hy...  instructive   \n",
       "8   Given that {premise} Therefore, it must be tru...  instructive   \n",
       "9   Given {premise} Should we assume that \"{hypoth...  instructive   \n",
       "10    {premise} Question: {hypothesis} True or False?  instructive   \n",
       "11       {premise} Question: {hypothesis} Cat or Dog?  instructive   \n",
       "12                  {premise} Question: {hypothesis}?  instructive   \n",
       "\n",
       "    includes_targets      targets target_ids  shuffle  \n",
       "0               True    ▁Yes, ▁No       0, 1    False  \n",
       "1               True    ▁Yes, ▁No       0, 1    False  \n",
       "2               True    ▁Yes, ▁No       0, 1    False  \n",
       "3               True    ▁Yes, ▁No       0, 1    False  \n",
       "4               True    ▁Yes, ▁No       0, 1    False  \n",
       "5               True    ▁Yes, ▁No       0, 1    False  \n",
       "6               True    ▁Yes, ▁No       0, 1    False  \n",
       "7               True    ▁Yes, ▁No       0, 1    False  \n",
       "8               True    ▁Yes, ▁No       0, 1    False  \n",
       "9               True    ▁Yes, ▁No       0, 1    False  \n",
       "10              True  ▁True, ▁Fal       0, 1    False  \n",
       "11              True   ▁Cat, ▁Dog       0, 1    False  \n",
       "12             False    ▁Yes, ▁No       0, 1    False  "
      ]
     },
     "metadata": {},
     "output_type": "display_data"
    }
   ],
   "source": [
    "df = read_templates_from_file(f\"/t0-analysis/prompts/{task}/all.csv\")\n",
    "# df = read_templates_from_file(f\"/t0-analysis/prompts/{task}/fixed_prompt.csv\")\n",
    "# df = read_templates_from_file(f\"/t0-analysis/prompts/{task}/fixed_target_yes_no.csv\")\n",
    "display(df)"
   ]
  },
  {
   "cell_type": "markdown",
   "metadata": {},
   "source": [
    "## Train linear classifier"
   ]
  },
  {
   "cell_type": "code",
   "execution_count": 5,
   "metadata": {},
   "outputs": [],
   "source": [
    "def unison_shuffled_copies(a, b):\n",
    "    # from: https://stackoverflow.com/questions/4601373/better-way-to-shuffle-two-numpy-arrays-in-unison\n",
    "    assert len(a) == len(b)\n",
    "    p = np.random.permutation(len(a))\n",
    "    return a[p], b[p]"
   ]
  },
  {
   "cell_type": "code",
   "execution_count": 9,
   "metadata": {},
   "outputs": [],
   "source": [
    "use_pattern = [\n",
    "    \"gpt_3_yes_no_with_targets\",\n",
    "    # \"mnli_crowdsource_with_targets\",\n",
    "    # \"based_on_previous_passage_with_targets\",\n",
    "    \"infer_with_targets\",\n",
    "    # \"follow_with_targets\",\n",
    "    # \"imply_with_targets\",\n",
    "    # \"guaranteed_with_targets\",\n",
    "    # \"justified_with_targets\",\n",
    "    # \"must_be_true_with_targets\",\n",
    "    # \"should_assume_with_targets\",\n",
    "    # \"gpt_3_true_false_with_targets\",\n",
    "    # \"gpt_3_cat_dog_with_targets\",\n",
    "    # \"gpt_3_yes_no_without_targets\",\n",
    "]"
   ]
  },
  {
   "cell_type": "code",
   "execution_count": 10,
   "metadata": {},
   "outputs": [
    {
     "name": "stdout",
     "output_type": "stream",
     "text": [
      "token: 0\tlayer: 0\n"
     ]
    },
    {
     "name": "stderr",
     "output_type": "stream",
     "text": [
      "Reading embeddings: 100%|██████████| 277/277 [00:00<00:00, 5346.50it/s]\n",
      "Reading embeddings: 100%|██████████| 277/277 [00:00<00:00, 5165.74it/s]\n"
     ]
    },
    {
     "name": "stdout",
     "output_type": "stream",
     "text": [
      "(554, 4096) (554,)\n",
      "classifying between: ['gpt_3_yes_no_with_targets', 'infer_with_targets']\n",
      "token=0; layer=0; accuracy on training data:  0.5\n",
      "\n",
      "\n",
      "token: 0\tlayer: 1\n"
     ]
    },
    {
     "name": "stderr",
     "output_type": "stream",
     "text": [
      "Reading embeddings: 100%|██████████| 277/277 [00:00<00:00, 4607.81it/s]\n",
      "Reading embeddings: 100%|██████████| 277/277 [00:00<00:00, 4629.83it/s]\n"
     ]
    },
    {
     "name": "stdout",
     "output_type": "stream",
     "text": [
      "(554, 4096) (554,)\n",
      "classifying between: ['gpt_3_yes_no_with_targets', 'infer_with_targets']\n",
      "token=0; layer=1; accuracy on training data:  1.0\n",
      "\n",
      "\n",
      "token: 0\tlayer: 2\n"
     ]
    },
    {
     "name": "stderr",
     "output_type": "stream",
     "text": [
      "Reading embeddings: 100%|██████████| 277/277 [00:00<00:00, 3930.43it/s]\n",
      "Reading embeddings: 100%|██████████| 277/277 [00:00<00:00, 5414.86it/s]"
     ]
    },
    {
     "name": "stdout",
     "output_type": "stream",
     "text": [
      "(554, 4096) (554,)\n",
      "classifying between: ['gpt_3_yes_no_with_targets', 'infer_with_targets']\n"
     ]
    },
    {
     "name": "stderr",
     "output_type": "stream",
     "text": [
      "\n"
     ]
    },
    {
     "name": "stdout",
     "output_type": "stream",
     "text": [
      "token=0; layer=2; accuracy on training data:  1.0\n",
      "\n",
      "\n",
      "token: 0\tlayer: 3\n"
     ]
    },
    {
     "name": "stderr",
     "output_type": "stream",
     "text": [
      "Reading embeddings: 100%|██████████| 277/277 [00:00<00:00, 4092.08it/s]\n",
      "Reading embeddings: 100%|██████████| 277/277 [00:00<00:00, 5555.32it/s]"
     ]
    },
    {
     "name": "stdout",
     "output_type": "stream",
     "text": [
      "(554, 4096) (554,)\n",
      "classifying between: ['gpt_3_yes_no_with_targets', 'infer_with_targets']\n"
     ]
    },
    {
     "name": "stderr",
     "output_type": "stream",
     "text": [
      "\n"
     ]
    },
    {
     "name": "stdout",
     "output_type": "stream",
     "text": [
      "token=0; layer=3; accuracy on training data:  1.0\n",
      "\n",
      "\n",
      "token: 0\tlayer: 4\n"
     ]
    },
    {
     "name": "stderr",
     "output_type": "stream",
     "text": [
      "Reading embeddings: 100%|██████████| 277/277 [00:00<00:00, 4284.84it/s]\n",
      "Reading embeddings: 100%|██████████| 277/277 [00:00<00:00, 5347.69it/s]"
     ]
    },
    {
     "name": "stdout",
     "output_type": "stream",
     "text": [
      "(554, 4096) (554,)\n",
      "classifying between: ['gpt_3_yes_no_with_targets', 'infer_with_targets']\n"
     ]
    },
    {
     "name": "stderr",
     "output_type": "stream",
     "text": [
      "\n"
     ]
    },
    {
     "name": "stdout",
     "output_type": "stream",
     "text": [
      "token=0; layer=4; accuracy on training data:  1.0\n",
      "\n",
      "\n",
      "token: 0\tlayer: 5\n"
     ]
    },
    {
     "name": "stderr",
     "output_type": "stream",
     "text": [
      "Reading embeddings: 100%|██████████| 277/277 [00:00<00:00, 4389.77it/s]\n",
      "Reading embeddings: 100%|██████████| 277/277 [00:00<00:00, 5010.94it/s]"
     ]
    },
    {
     "name": "stdout",
     "output_type": "stream",
     "text": [
      "(554, 4096) (554,)\n",
      "classifying between: ['gpt_3_yes_no_with_targets', 'infer_with_targets']\n"
     ]
    },
    {
     "name": "stderr",
     "output_type": "stream",
     "text": [
      "\n"
     ]
    },
    {
     "name": "stdout",
     "output_type": "stream",
     "text": [
      "token=0; layer=5; accuracy on training data:  1.0\n",
      "\n",
      "\n",
      "token: 0\tlayer: 6\n"
     ]
    },
    {
     "name": "stderr",
     "output_type": "stream",
     "text": [
      "Reading embeddings: 100%|██████████| 277/277 [00:00<00:00, 4187.67it/s]\n",
      "Reading embeddings: 100%|██████████| 277/277 [00:00<00:00, 5265.38it/s]"
     ]
    },
    {
     "name": "stdout",
     "output_type": "stream",
     "text": [
      "(554, 4096) (554,)\n",
      "classifying between: ['gpt_3_yes_no_with_targets', 'infer_with_targets']\n"
     ]
    },
    {
     "name": "stderr",
     "output_type": "stream",
     "text": [
      "\n"
     ]
    },
    {
     "name": "stdout",
     "output_type": "stream",
     "text": [
      "token=0; layer=6; accuracy on training data:  1.0\n",
      "\n",
      "\n",
      "token: 0\tlayer: 7\n"
     ]
    },
    {
     "name": "stderr",
     "output_type": "stream",
     "text": [
      "Reading embeddings: 100%|██████████| 277/277 [00:00<00:00, 4163.49it/s]\n",
      "Reading embeddings: 100%|██████████| 277/277 [00:00<00:00, 5310.92it/s]"
     ]
    },
    {
     "name": "stdout",
     "output_type": "stream",
     "text": [
      "(554, 4096) (554,)\n",
      "classifying between: ['gpt_3_yes_no_with_targets', 'infer_with_targets']\n"
     ]
    },
    {
     "name": "stderr",
     "output_type": "stream",
     "text": [
      "\n"
     ]
    },
    {
     "name": "stdout",
     "output_type": "stream",
     "text": [
      "token=0; layer=7; accuracy on training data:  1.0\n",
      "\n",
      "\n",
      "token: 0\tlayer: 8\n"
     ]
    },
    {
     "name": "stderr",
     "output_type": "stream",
     "text": [
      "Reading embeddings: 100%|██████████| 277/277 [00:00<00:00, 4253.87it/s]\n",
      "Reading embeddings: 100%|██████████| 277/277 [00:00<00:00, 5392.36it/s]"
     ]
    },
    {
     "name": "stdout",
     "output_type": "stream",
     "text": [
      "(554, 4096) (554,)\n",
      "classifying between: ['gpt_3_yes_no_with_targets', 'infer_with_targets']\n"
     ]
    },
    {
     "name": "stderr",
     "output_type": "stream",
     "text": [
      "\n"
     ]
    },
    {
     "name": "stdout",
     "output_type": "stream",
     "text": [
      "token=0; layer=8; accuracy on training data:  1.0\n",
      "\n",
      "\n",
      "token: 0\tlayer: 9\n"
     ]
    },
    {
     "name": "stderr",
     "output_type": "stream",
     "text": [
      "Reading embeddings: 100%|██████████| 277/277 [00:00<00:00, 4124.53it/s]\n",
      "Reading embeddings: 100%|██████████| 277/277 [00:00<00:00, 5389.66it/s]"
     ]
    },
    {
     "name": "stdout",
     "output_type": "stream",
     "text": [
      "(554, 4096) (554,)\n",
      "classifying between: ['gpt_3_yes_no_with_targets', 'infer_with_targets']\n"
     ]
    },
    {
     "name": "stderr",
     "output_type": "stream",
     "text": [
      "\n"
     ]
    },
    {
     "name": "stdout",
     "output_type": "stream",
     "text": [
      "token=0; layer=9; accuracy on training data:  1.0\n",
      "\n",
      "\n",
      "token: 0\tlayer: 10\n"
     ]
    },
    {
     "name": "stderr",
     "output_type": "stream",
     "text": [
      "Reading embeddings: 100%|██████████| 277/277 [00:00<00:00, 3477.13it/s]\n",
      "Reading embeddings: 100%|██████████| 277/277 [00:00<00:00, 5745.88it/s]"
     ]
    },
    {
     "name": "stdout",
     "output_type": "stream",
     "text": [
      "(554, 4096) (554,)\n",
      "classifying between: ['gpt_3_yes_no_with_targets', 'infer_with_targets']\n"
     ]
    },
    {
     "name": "stderr",
     "output_type": "stream",
     "text": [
      "\n"
     ]
    },
    {
     "name": "stdout",
     "output_type": "stream",
     "text": [
      "token=0; layer=10; accuracy on training data:  1.0\n",
      "\n",
      "\n",
      "token: 0\tlayer: 11\n"
     ]
    },
    {
     "name": "stderr",
     "output_type": "stream",
     "text": [
      "Reading embeddings: 100%|██████████| 277/277 [00:00<00:00, 4213.82it/s]\n",
      "Reading embeddings: 100%|██████████| 277/277 [00:00<00:00, 5376.47it/s]"
     ]
    },
    {
     "name": "stdout",
     "output_type": "stream",
     "text": [
      "(554, 4096) (554,)\n",
      "classifying between: ['gpt_3_yes_no_with_targets', 'infer_with_targets']\n"
     ]
    },
    {
     "name": "stderr",
     "output_type": "stream",
     "text": [
      "\n"
     ]
    },
    {
     "name": "stdout",
     "output_type": "stream",
     "text": [
      "token=0; layer=11; accuracy on training data:  1.0\n",
      "\n",
      "\n",
      "token: 0\tlayer: 12\n"
     ]
    },
    {
     "name": "stderr",
     "output_type": "stream",
     "text": [
      "Reading embeddings: 100%|██████████| 277/277 [00:00<00:00, 4355.02it/s]\n",
      "Reading embeddings: 100%|██████████| 277/277 [00:00<00:00, 5539.87it/s]"
     ]
    },
    {
     "name": "stdout",
     "output_type": "stream",
     "text": [
      "(554, 4096) (554,)\n",
      "classifying between: ['gpt_3_yes_no_with_targets', 'infer_with_targets']\n"
     ]
    },
    {
     "name": "stderr",
     "output_type": "stream",
     "text": [
      "\n"
     ]
    },
    {
     "name": "stdout",
     "output_type": "stream",
     "text": [
      "token=0; layer=12; accuracy on training data:  1.0\n",
      "\n",
      "\n",
      "token: 0\tlayer: 13\n"
     ]
    },
    {
     "name": "stderr",
     "output_type": "stream",
     "text": [
      "Reading embeddings: 100%|██████████| 277/277 [00:00<00:00, 4412.79it/s]\n",
      "Reading embeddings: 100%|██████████| 277/277 [00:00<00:00, 5414.86it/s]"
     ]
    },
    {
     "name": "stdout",
     "output_type": "stream",
     "text": [
      "(554, 4096) (554,)\n",
      "classifying between: ['gpt_3_yes_no_with_targets', 'infer_with_targets']\n"
     ]
    },
    {
     "name": "stderr",
     "output_type": "stream",
     "text": [
      "\n"
     ]
    },
    {
     "name": "stdout",
     "output_type": "stream",
     "text": [
      "token=0; layer=13; accuracy on training data:  1.0\n",
      "\n",
      "\n",
      "token: 0\tlayer: 14\n"
     ]
    },
    {
     "name": "stderr",
     "output_type": "stream",
     "text": [
      "Reading embeddings: 100%|██████████| 277/277 [00:00<00:00, 3663.45it/s]\n",
      "Reading embeddings: 100%|██████████| 277/277 [00:00<00:00, 5613.86it/s]"
     ]
    },
    {
     "name": "stdout",
     "output_type": "stream",
     "text": [
      "(554, 4096) (554,)\n",
      "classifying between: ['gpt_3_yes_no_with_targets', 'infer_with_targets']\n"
     ]
    },
    {
     "name": "stderr",
     "output_type": "stream",
     "text": [
      "\n"
     ]
    },
    {
     "name": "stdout",
     "output_type": "stream",
     "text": [
      "token=0; layer=14; accuracy on training data:  1.0\n",
      "\n",
      "\n",
      "token: 0\tlayer: 15\n"
     ]
    },
    {
     "name": "stderr",
     "output_type": "stream",
     "text": [
      "Reading embeddings: 100%|██████████| 277/277 [00:00<00:00, 4394.85it/s]\n",
      "Reading embeddings: 100%|██████████| 277/277 [00:00<00:00, 5536.55it/s]"
     ]
    },
    {
     "name": "stdout",
     "output_type": "stream",
     "text": [
      "(554, 4096) (554,)\n",
      "classifying between: ['gpt_3_yes_no_with_targets', 'infer_with_targets']\n"
     ]
    },
    {
     "name": "stderr",
     "output_type": "stream",
     "text": [
      "\n"
     ]
    },
    {
     "name": "stdout",
     "output_type": "stream",
     "text": [
      "token=0; layer=15; accuracy on training data:  1.0\n",
      "\n",
      "\n",
      "token: 0\tlayer: 16\n"
     ]
    },
    {
     "name": "stderr",
     "output_type": "stream",
     "text": [
      "Reading embeddings: 100%|██████████| 277/277 [00:00<00:00, 4292.36it/s]\n",
      "Reading embeddings: 100%|██████████| 277/277 [00:00<00:00, 5625.47it/s]"
     ]
    },
    {
     "name": "stdout",
     "output_type": "stream",
     "text": [
      "(554, 4096) (554,)\n",
      "classifying between: ['gpt_3_yes_no_with_targets', 'infer_with_targets']\n"
     ]
    },
    {
     "name": "stderr",
     "output_type": "stream",
     "text": [
      "\n"
     ]
    },
    {
     "name": "stdout",
     "output_type": "stream",
     "text": [
      "token=0; layer=16; accuracy on training data:  1.0\n",
      "\n",
      "\n",
      "token: 0\tlayer: 17\n"
     ]
    },
    {
     "name": "stderr",
     "output_type": "stream",
     "text": [
      "Reading embeddings: 100%|██████████| 277/277 [00:00<00:00, 4360.67it/s]\n",
      "Reading embeddings: 100%|██████████| 277/277 [00:00<00:00, 5416.67it/s]"
     ]
    },
    {
     "name": "stdout",
     "output_type": "stream",
     "text": [
      "(554, 4096) (554,)\n",
      "classifying between: ['gpt_3_yes_no_with_targets', 'infer_with_targets']\n"
     ]
    },
    {
     "name": "stderr",
     "output_type": "stream",
     "text": [
      "\n"
     ]
    },
    {
     "name": "stdout",
     "output_type": "stream",
     "text": [
      "token=0; layer=17; accuracy on training data:  1.0\n",
      "\n",
      "\n",
      "token: 0\tlayer: 18\n"
     ]
    },
    {
     "name": "stderr",
     "output_type": "stream",
     "text": [
      "Reading embeddings: 100%|██████████| 277/277 [00:00<00:00, 4359.41it/s]\n",
      "Reading embeddings: 100%|██████████| 277/277 [00:00<00:00, 5315.73it/s]"
     ]
    },
    {
     "name": "stdout",
     "output_type": "stream",
     "text": [
      "(554, 4096) (554,)\n",
      "classifying between: ['gpt_3_yes_no_with_targets', 'infer_with_targets']\n"
     ]
    },
    {
     "name": "stderr",
     "output_type": "stream",
     "text": [
      "\n"
     ]
    },
    {
     "name": "stdout",
     "output_type": "stream",
     "text": [
      "token=0; layer=18; accuracy on training data:  1.0\n",
      "\n",
      "\n",
      "token: 0\tlayer: 19\n"
     ]
    },
    {
     "name": "stderr",
     "output_type": "stream",
     "text": [
      "Reading embeddings: 100%|██████████| 277/277 [00:00<00:00, 4055.76it/s]\n",
      "Reading embeddings: 100%|██████████| 277/277 [00:00<00:00, 5587.67it/s]"
     ]
    },
    {
     "name": "stdout",
     "output_type": "stream",
     "text": [
      "(554, 4096) (554,)\n",
      "classifying between: ['gpt_3_yes_no_with_targets', 'infer_with_targets']\n"
     ]
    },
    {
     "name": "stderr",
     "output_type": "stream",
     "text": [
      "\n"
     ]
    },
    {
     "name": "stdout",
     "output_type": "stream",
     "text": [
      "token=0; layer=19; accuracy on training data:  1.0\n",
      "\n",
      "\n",
      "token: 0\tlayer: 20\n"
     ]
    },
    {
     "name": "stderr",
     "output_type": "stream",
     "text": [
      "Reading embeddings: 100%|██████████| 277/277 [00:00<00:00, 4190.70it/s]\n",
      "Reading embeddings: 100%|██████████| 277/277 [00:00<00:00, 5399.45it/s]"
     ]
    },
    {
     "name": "stdout",
     "output_type": "stream",
     "text": [
      "(554, 4096) (554,)\n",
      "classifying between: ['gpt_3_yes_no_with_targets', 'infer_with_targets']\n"
     ]
    },
    {
     "name": "stderr",
     "output_type": "stream",
     "text": [
      "\n"
     ]
    },
    {
     "name": "stdout",
     "output_type": "stream",
     "text": [
      "token=0; layer=20; accuracy on training data:  1.0\n",
      "\n",
      "\n",
      "token: 0\tlayer: 21\n"
     ]
    },
    {
     "name": "stderr",
     "output_type": "stream",
     "text": [
      "Reading embeddings: 100%|██████████| 277/277 [00:00<00:00, 3913.68it/s]\n",
      "Reading embeddings: 100%|██████████| 277/277 [00:00<00:00, 5878.86it/s]"
     ]
    },
    {
     "name": "stdout",
     "output_type": "stream",
     "text": [
      "(554, 4096) (554,)\n",
      "classifying between: ['gpt_3_yes_no_with_targets', 'infer_with_targets']\n"
     ]
    },
    {
     "name": "stderr",
     "output_type": "stream",
     "text": [
      "\n"
     ]
    },
    {
     "name": "stdout",
     "output_type": "stream",
     "text": [
      "token=0; layer=21; accuracy on training data:  1.0\n",
      "\n",
      "\n",
      "token: 0\tlayer: 22\n"
     ]
    },
    {
     "name": "stderr",
     "output_type": "stream",
     "text": [
      "Reading embeddings: 100%|██████████| 277/277 [00:00<00:00, 4330.26it/s]\n",
      "Reading embeddings: 100%|██████████| 277/277 [00:00<00:00, 5568.87it/s]"
     ]
    },
    {
     "name": "stdout",
     "output_type": "stream",
     "text": [
      "(554, 4096) (554,)\n",
      "classifying between: ['gpt_3_yes_no_with_targets', 'infer_with_targets']\n"
     ]
    },
    {
     "name": "stderr",
     "output_type": "stream",
     "text": [
      "\n"
     ]
    },
    {
     "name": "stdout",
     "output_type": "stream",
     "text": [
      "token=0; layer=22; accuracy on training data:  1.0\n",
      "\n",
      "\n",
      "token: 0\tlayer: 23\n"
     ]
    },
    {
     "name": "stderr",
     "output_type": "stream",
     "text": [
      "Reading embeddings: 100%|██████████| 277/277 [00:00<00:00, 4218.21it/s]\n",
      "Reading embeddings: 100%|██████████| 277/277 [00:00<00:00, 5535.41it/s]"
     ]
    },
    {
     "name": "stdout",
     "output_type": "stream",
     "text": [
      "(554, 4096) (554,)\n",
      "classifying between: ['gpt_3_yes_no_with_targets', 'infer_with_targets']\n"
     ]
    },
    {
     "name": "stderr",
     "output_type": "stream",
     "text": [
      "\n"
     ]
    },
    {
     "name": "stdout",
     "output_type": "stream",
     "text": [
      "token=0; layer=23; accuracy on training data:  1.0\n",
      "\n",
      "\n",
      "token: 0\tlayer: 24\n"
     ]
    },
    {
     "name": "stderr",
     "output_type": "stream",
     "text": [
      "Reading embeddings: 100%|██████████| 277/277 [00:00<00:00, 4390.10it/s]\n",
      "Reading embeddings: 100%|██████████| 277/277 [00:00<00:00, 5449.35it/s]"
     ]
    },
    {
     "name": "stdout",
     "output_type": "stream",
     "text": [
      "(554, 4096) (554,)\n",
      "classifying between: ['gpt_3_yes_no_with_targets', 'infer_with_targets']\n"
     ]
    },
    {
     "name": "stderr",
     "output_type": "stream",
     "text": [
      "\n"
     ]
    },
    {
     "name": "stdout",
     "output_type": "stream",
     "text": [
      "token=0; layer=24; accuracy on training data:  1.0\n",
      "\n",
      "\n",
      "token: 1\tlayer: 0\n"
     ]
    },
    {
     "name": "stderr",
     "output_type": "stream",
     "text": [
      "Reading embeddings: 100%|██████████| 277/277 [00:00<00:00, 4230.82it/s]\n",
      "Reading embeddings: 100%|██████████| 277/277 [00:00<00:00, 5417.23it/s]\n"
     ]
    },
    {
     "name": "stdout",
     "output_type": "stream",
     "text": [
      "(554, 4096) (554,)\n",
      "classifying between: ['gpt_3_yes_no_with_targets', 'infer_with_targets']\n",
      "token=1; layer=0; accuracy on training data:  0.5324909747292419\n",
      "\n",
      "\n",
      "token: 1\tlayer: 1\n"
     ]
    },
    {
     "name": "stderr",
     "output_type": "stream",
     "text": [
      "Reading embeddings: 100%|██████████| 277/277 [00:00<00:00, 4693.64it/s]\n",
      "Reading embeddings: 100%|██████████| 277/277 [00:00<00:00, 5499.00it/s]\n"
     ]
    },
    {
     "name": "stdout",
     "output_type": "stream",
     "text": [
      "(554, 4096) (554,)\n",
      "classifying between: ['gpt_3_yes_no_with_targets', 'infer_with_targets']\n",
      "token=1; layer=1; accuracy on training data:  1.0\n",
      "\n",
      "\n",
      "token: 1\tlayer: 2\n"
     ]
    },
    {
     "name": "stderr",
     "output_type": "stream",
     "text": [
      "Reading embeddings: 100%|██████████| 277/277 [00:00<00:00, 4011.43it/s]\n",
      "Reading embeddings: 100%|██████████| 277/277 [00:00<00:00, 5562.02it/s]"
     ]
    },
    {
     "name": "stdout",
     "output_type": "stream",
     "text": [
      "(554, 4096) (554,)\n",
      "classifying between: ['gpt_3_yes_no_with_targets', 'infer_with_targets']\n"
     ]
    },
    {
     "name": "stderr",
     "output_type": "stream",
     "text": [
      "\n"
     ]
    },
    {
     "name": "stdout",
     "output_type": "stream",
     "text": [
      "token=1; layer=2; accuracy on training data:  1.0\n",
      "\n",
      "\n",
      "token: 1\tlayer: 3\n"
     ]
    },
    {
     "name": "stderr",
     "output_type": "stream",
     "text": [
      "Reading embeddings: 100%|██████████| 277/277 [00:00<00:00, 4399.89it/s]\n",
      "Reading embeddings: 100%|██████████| 277/277 [00:00<00:00, 5337.25it/s]"
     ]
    },
    {
     "name": "stdout",
     "output_type": "stream",
     "text": [
      "(554, 4096) (554,)\n",
      "classifying between: ['gpt_3_yes_no_with_targets', 'infer_with_targets']\n"
     ]
    },
    {
     "name": "stderr",
     "output_type": "stream",
     "text": [
      "\n"
     ]
    },
    {
     "name": "stdout",
     "output_type": "stream",
     "text": [
      "token=1; layer=3; accuracy on training data:  1.0\n",
      "\n",
      "\n",
      "token: 1\tlayer: 4\n"
     ]
    },
    {
     "name": "stderr",
     "output_type": "stream",
     "text": [
      "Reading embeddings: 100%|██████████| 277/277 [00:00<00:00, 4266.56it/s]\n",
      "Reading embeddings: 100%|██████████| 277/277 [00:00<00:00, 5083.25it/s]"
     ]
    },
    {
     "name": "stdout",
     "output_type": "stream",
     "text": [
      "(554, 4096) (554,)\n",
      "classifying between: ['gpt_3_yes_no_with_targets', 'infer_with_targets']\n"
     ]
    },
    {
     "name": "stderr",
     "output_type": "stream",
     "text": [
      "\n"
     ]
    },
    {
     "name": "stdout",
     "output_type": "stream",
     "text": [
      "token=1; layer=4; accuracy on training data:  1.0\n",
      "\n",
      "\n",
      "token: 1\tlayer: 5\n"
     ]
    },
    {
     "name": "stderr",
     "output_type": "stream",
     "text": [
      "Reading embeddings: 100%|██████████| 277/277 [00:00<00:00, 4145.65it/s]\n",
      "Reading embeddings: 100%|██████████| 277/277 [00:00<00:00, 5173.63it/s]"
     ]
    },
    {
     "name": "stdout",
     "output_type": "stream",
     "text": [
      "(554, 4096) (554,)\n",
      "classifying between: ['gpt_3_yes_no_with_targets', 'infer_with_targets']\n"
     ]
    },
    {
     "name": "stderr",
     "output_type": "stream",
     "text": [
      "\n"
     ]
    },
    {
     "name": "stdout",
     "output_type": "stream",
     "text": [
      "token=1; layer=5; accuracy on training data:  1.0\n",
      "\n",
      "\n",
      "token: 1\tlayer: 6\n"
     ]
    },
    {
     "name": "stderr",
     "output_type": "stream",
     "text": [
      "Reading embeddings: 100%|██████████| 277/277 [00:00<00:00, 3412.28it/s]\n",
      "Reading embeddings: 100%|██████████| 277/277 [00:00<00:00, 5367.38it/s]"
     ]
    },
    {
     "name": "stdout",
     "output_type": "stream",
     "text": [
      "(554, 4096) (554,)\n",
      "classifying between: ['gpt_3_yes_no_with_targets', 'infer_with_targets']\n"
     ]
    },
    {
     "name": "stderr",
     "output_type": "stream",
     "text": [
      "\n"
     ]
    },
    {
     "name": "stdout",
     "output_type": "stream",
     "text": [
      "token=1; layer=6; accuracy on training data:  1.0\n",
      "\n",
      "\n",
      "token: 1\tlayer: 7\n"
     ]
    },
    {
     "name": "stderr",
     "output_type": "stream",
     "text": [
      "Reading embeddings: 100%|██████████| 277/277 [00:00<00:00, 3206.45it/s]\n",
      "Reading embeddings: 100%|██████████| 277/277 [00:00<00:00, 5753.53it/s]"
     ]
    },
    {
     "name": "stdout",
     "output_type": "stream",
     "text": [
      "(554, 4096) (554,)\n",
      "classifying between: ['gpt_3_yes_no_with_targets', 'infer_with_targets']\n"
     ]
    },
    {
     "name": "stderr",
     "output_type": "stream",
     "text": [
      "\n"
     ]
    },
    {
     "name": "stdout",
     "output_type": "stream",
     "text": [
      "token=1; layer=7; accuracy on training data:  1.0\n",
      "\n",
      "\n",
      "token: 1\tlayer: 8\n"
     ]
    },
    {
     "name": "stderr",
     "output_type": "stream",
     "text": [
      "Reading embeddings: 100%|██████████| 277/277 [00:00<00:00, 4403.89it/s]\n",
      "Reading embeddings: 100%|██████████| 277/277 [00:00<00:00, 5024.29it/s]"
     ]
    },
    {
     "name": "stdout",
     "output_type": "stream",
     "text": [
      "(554, 4096) (554,)\n",
      "classifying between: ['gpt_3_yes_no_with_targets', 'infer_with_targets']\n"
     ]
    },
    {
     "name": "stderr",
     "output_type": "stream",
     "text": [
      "\n"
     ]
    },
    {
     "name": "stdout",
     "output_type": "stream",
     "text": [
      "token=1; layer=8; accuracy on training data:  1.0\n",
      "\n",
      "\n",
      "token: 1\tlayer: 9\n"
     ]
    },
    {
     "name": "stderr",
     "output_type": "stream",
     "text": [
      "Reading embeddings: 100%|██████████| 277/277 [00:00<00:00, 4277.92it/s]\n",
      "Reading embeddings: 100%|██████████| 277/277 [00:00<00:00, 5457.13it/s]"
     ]
    },
    {
     "name": "stdout",
     "output_type": "stream",
     "text": [
      "(554, 4096) (554,)\n",
      "classifying between: ['gpt_3_yes_no_with_targets', 'infer_with_targets']\n"
     ]
    },
    {
     "name": "stderr",
     "output_type": "stream",
     "text": [
      "\n"
     ]
    },
    {
     "name": "stdout",
     "output_type": "stream",
     "text": [
      "token=1; layer=9; accuracy on training data:  1.0\n",
      "\n",
      "\n",
      "token: 1\tlayer: 10\n"
     ]
    },
    {
     "name": "stderr",
     "output_type": "stream",
     "text": [
      "Reading embeddings: 100%|██████████| 277/277 [00:00<00:00, 3901.69it/s]\n",
      "Reading embeddings: 100%|██████████| 277/277 [00:00<00:00, 5467.45it/s]"
     ]
    },
    {
     "name": "stdout",
     "output_type": "stream",
     "text": [
      "(554, 4096) (554,)\n",
      "classifying between: ['gpt_3_yes_no_with_targets', 'infer_with_targets']\n"
     ]
    },
    {
     "name": "stderr",
     "output_type": "stream",
     "text": [
      "\n"
     ]
    },
    {
     "name": "stdout",
     "output_type": "stream",
     "text": [
      "token=1; layer=10; accuracy on training data:  1.0\n",
      "\n",
      "\n",
      "token: 1\tlayer: 11\n"
     ]
    },
    {
     "name": "stderr",
     "output_type": "stream",
     "text": [
      "Reading embeddings: 100%|██████████| 277/277 [00:00<00:00, 4359.57it/s]\n",
      "Reading embeddings: 100%|██████████| 277/277 [00:00<00:00, 5535.36it/s]"
     ]
    },
    {
     "name": "stdout",
     "output_type": "stream",
     "text": [
      "(554, 4096) (554,)\n",
      "classifying between: ['gpt_3_yes_no_with_targets', 'infer_with_targets']\n"
     ]
    },
    {
     "name": "stderr",
     "output_type": "stream",
     "text": [
      "\n"
     ]
    },
    {
     "name": "stdout",
     "output_type": "stream",
     "text": [
      "token=1; layer=11; accuracy on training data:  1.0\n",
      "\n",
      "\n",
      "token: 1\tlayer: 12\n"
     ]
    },
    {
     "name": "stderr",
     "output_type": "stream",
     "text": [
      "Reading embeddings: 100%|██████████| 277/277 [00:00<00:00, 4175.58it/s]\n",
      "Reading embeddings: 100%|██████████| 277/277 [00:00<00:00, 5499.00it/s]"
     ]
    },
    {
     "name": "stdout",
     "output_type": "stream",
     "text": [
      "(554, 4096) (554,)\n",
      "classifying between: ['gpt_3_yes_no_with_targets', 'infer_with_targets']\n"
     ]
    },
    {
     "name": "stderr",
     "output_type": "stream",
     "text": [
      "\n"
     ]
    },
    {
     "name": "stdout",
     "output_type": "stream",
     "text": [
      "token=1; layer=12; accuracy on training data:  1.0\n",
      "\n",
      "\n",
      "token: 1\tlayer: 13\n"
     ]
    },
    {
     "name": "stderr",
     "output_type": "stream",
     "text": [
      "Reading embeddings: 100%|██████████| 277/277 [00:00<00:00, 4274.58it/s]\n",
      "Reading embeddings: 100%|██████████| 277/277 [00:00<00:00, 5247.69it/s]"
     ]
    },
    {
     "name": "stdout",
     "output_type": "stream",
     "text": [
      "(554, 4096) (554,)\n",
      "classifying between: ['gpt_3_yes_no_with_targets', 'infer_with_targets']\n"
     ]
    },
    {
     "name": "stderr",
     "output_type": "stream",
     "text": [
      "\n"
     ]
    },
    {
     "name": "stdout",
     "output_type": "stream",
     "text": [
      "token=1; layer=13; accuracy on training data:  1.0\n",
      "\n",
      "\n",
      "token: 1\tlayer: 14\n"
     ]
    },
    {
     "name": "stderr",
     "output_type": "stream",
     "text": [
      "Reading embeddings: 100%|██████████| 277/277 [00:00<00:00, 3773.07it/s]\n",
      "Reading embeddings: 100%|██████████| 277/277 [00:00<00:00, 5275.42it/s]"
     ]
    },
    {
     "name": "stdout",
     "output_type": "stream",
     "text": [
      "(554, 4096) (554,)\n",
      "classifying between: ['gpt_3_yes_no_with_targets', 'infer_with_targets']\n"
     ]
    },
    {
     "name": "stderr",
     "output_type": "stream",
     "text": [
      "\n"
     ]
    },
    {
     "name": "stdout",
     "output_type": "stream",
     "text": [
      "token=1; layer=14; accuracy on training data:  1.0\n",
      "\n",
      "\n",
      "token: 1\tlayer: 15\n"
     ]
    },
    {
     "name": "stderr",
     "output_type": "stream",
     "text": [
      "Reading embeddings: 100%|██████████| 277/277 [00:00<00:00, 3751.87it/s]\n",
      "Reading embeddings: 100%|██████████| 277/277 [00:00<00:00, 5245.86it/s]"
     ]
    },
    {
     "name": "stdout",
     "output_type": "stream",
     "text": [
      "(554, 4096) (554,)\n",
      "classifying between: ['gpt_3_yes_no_with_targets', 'infer_with_targets']\n"
     ]
    },
    {
     "name": "stderr",
     "output_type": "stream",
     "text": [
      "\n"
     ]
    },
    {
     "name": "stdout",
     "output_type": "stream",
     "text": [
      "token=1; layer=15; accuracy on training data:  1.0\n",
      "\n",
      "\n",
      "token: 1\tlayer: 16\n"
     ]
    },
    {
     "name": "stderr",
     "output_type": "stream",
     "text": [
      "Reading embeddings: 100%|██████████| 277/277 [00:00<00:00, 4024.94it/s]\n",
      "Reading embeddings: 100%|██████████| 277/277 [00:00<00:00, 4929.45it/s]"
     ]
    },
    {
     "name": "stdout",
     "output_type": "stream",
     "text": [
      "(554, 4096) (554,)\n",
      "classifying between: ['gpt_3_yes_no_with_targets', 'infer_with_targets']\n"
     ]
    },
    {
     "name": "stderr",
     "output_type": "stream",
     "text": [
      "\n"
     ]
    },
    {
     "name": "stdout",
     "output_type": "stream",
     "text": [
      "token=1; layer=16; accuracy on training data:  1.0\n",
      "\n",
      "\n",
      "token: 1\tlayer: 17\n"
     ]
    },
    {
     "name": "stderr",
     "output_type": "stream",
     "text": [
      "Reading embeddings: 100%|██████████| 277/277 [00:00<00:00, 3190.08it/s]\n",
      "Reading embeddings: 100%|██████████| 277/277 [00:00<00:00, 5535.62it/s]"
     ]
    },
    {
     "name": "stdout",
     "output_type": "stream",
     "text": [
      "(554, 4096) (554,)\n",
      "classifying between: ['gpt_3_yes_no_with_targets', 'infer_with_targets']\n"
     ]
    },
    {
     "name": "stderr",
     "output_type": "stream",
     "text": [
      "\n"
     ]
    },
    {
     "name": "stdout",
     "output_type": "stream",
     "text": [
      "token=1; layer=17; accuracy on training data:  1.0\n",
      "\n",
      "\n",
      "token: 1\tlayer: 18\n"
     ]
    },
    {
     "name": "stderr",
     "output_type": "stream",
     "text": [
      "Reading embeddings: 100%|██████████| 277/277 [00:00<00:00, 4207.38it/s]\n",
      "Reading embeddings: 100%|██████████| 277/277 [00:00<00:00, 4959.01it/s]"
     ]
    },
    {
     "name": "stdout",
     "output_type": "stream",
     "text": [
      "(554, 4096) (554,)\n",
      "classifying between: ['gpt_3_yes_no_with_targets', 'infer_with_targets']\n"
     ]
    },
    {
     "name": "stderr",
     "output_type": "stream",
     "text": [
      "\n"
     ]
    },
    {
     "name": "stdout",
     "output_type": "stream",
     "text": [
      "token=1; layer=18; accuracy on training data:  1.0\n",
      "\n",
      "\n",
      "token: 1\tlayer: 19\n"
     ]
    },
    {
     "name": "stderr",
     "output_type": "stream",
     "text": [
      "Reading embeddings: 100%|██████████| 277/277 [00:00<00:00, 3358.74it/s]\n",
      "Reading embeddings: 100%|██████████| 277/277 [00:00<00:00, 5679.64it/s]"
     ]
    },
    {
     "name": "stdout",
     "output_type": "stream",
     "text": [
      "(554, 4096) (554,)\n",
      "classifying between: ['gpt_3_yes_no_with_targets', 'infer_with_targets']\n"
     ]
    },
    {
     "name": "stderr",
     "output_type": "stream",
     "text": [
      "\n"
     ]
    },
    {
     "name": "stdout",
     "output_type": "stream",
     "text": [
      "token=1; layer=19; accuracy on training data:  1.0\n",
      "\n",
      "\n",
      "token: 1\tlayer: 20\n"
     ]
    },
    {
     "name": "stderr",
     "output_type": "stream",
     "text": [
      "Reading embeddings: 100%|██████████| 277/277 [00:00<00:00, 4263.44it/s]\n",
      "Reading embeddings: 100%|██████████| 277/277 [00:00<00:00, 5428.16it/s]"
     ]
    },
    {
     "name": "stdout",
     "output_type": "stream",
     "text": [
      "(554, 4096) (554,)\n",
      "classifying between: ['gpt_3_yes_no_with_targets', 'infer_with_targets']\n"
     ]
    },
    {
     "name": "stderr",
     "output_type": "stream",
     "text": [
      "\n"
     ]
    },
    {
     "name": "stdout",
     "output_type": "stream",
     "text": [
      "token=1; layer=20; accuracy on training data:  1.0\n",
      "\n",
      "\n",
      "token: 1\tlayer: 21\n"
     ]
    },
    {
     "name": "stderr",
     "output_type": "stream",
     "text": [
      "Reading embeddings: 100%|██████████| 277/277 [00:00<00:00, 4295.55it/s]\n",
      "Reading embeddings: 100%|██████████| 277/277 [00:00<00:00, 5180.23it/s]"
     ]
    },
    {
     "name": "stdout",
     "output_type": "stream",
     "text": [
      "(554, 4096) (554,)\n",
      "classifying between: ['gpt_3_yes_no_with_targets', 'infer_with_targets']\n"
     ]
    },
    {
     "name": "stderr",
     "output_type": "stream",
     "text": [
      "\n"
     ]
    },
    {
     "name": "stdout",
     "output_type": "stream",
     "text": [
      "token=1; layer=21; accuracy on training data:  1.0\n",
      "\n",
      "\n",
      "token: 1\tlayer: 22\n"
     ]
    },
    {
     "name": "stderr",
     "output_type": "stream",
     "text": [
      "Reading embeddings: 100%|██████████| 277/277 [00:00<00:00, 4313.57it/s]\n",
      "Reading embeddings: 100%|██████████| 277/277 [00:00<00:00, 5381.10it/s]"
     ]
    },
    {
     "name": "stdout",
     "output_type": "stream",
     "text": [
      "(554, 4096) (554,)\n",
      "classifying between: ['gpt_3_yes_no_with_targets', 'infer_with_targets']\n"
     ]
    },
    {
     "name": "stderr",
     "output_type": "stream",
     "text": [
      "\n"
     ]
    },
    {
     "name": "stdout",
     "output_type": "stream",
     "text": [
      "token=1; layer=22; accuracy on training data:  1.0\n",
      "\n",
      "\n",
      "token: 1\tlayer: 23\n"
     ]
    },
    {
     "name": "stderr",
     "output_type": "stream",
     "text": [
      "Reading embeddings: 100%|██████████| 277/277 [00:00<00:00, 4406.55it/s]\n",
      "Reading embeddings: 100%|██████████| 277/277 [00:00<00:00, 5296.37it/s]"
     ]
    },
    {
     "name": "stdout",
     "output_type": "stream",
     "text": [
      "(554, 4096) (554,)\n",
      "classifying between: ['gpt_3_yes_no_with_targets', 'infer_with_targets']\n"
     ]
    },
    {
     "name": "stderr",
     "output_type": "stream",
     "text": [
      "\n"
     ]
    },
    {
     "name": "stdout",
     "output_type": "stream",
     "text": [
      "token=1; layer=23; accuracy on training data:  1.0\n",
      "\n",
      "\n",
      "token: 1\tlayer: 24\n"
     ]
    },
    {
     "name": "stderr",
     "output_type": "stream",
     "text": [
      "Reading embeddings: 100%|██████████| 277/277 [00:00<00:00, 3976.17it/s]\n",
      "Reading embeddings: 100%|██████████| 277/277 [00:00<00:00, 5468.33it/s]"
     ]
    },
    {
     "name": "stdout",
     "output_type": "stream",
     "text": [
      "(554, 4096) (554,)\n",
      "classifying between: ['gpt_3_yes_no_with_targets', 'infer_with_targets']\n"
     ]
    },
    {
     "name": "stderr",
     "output_type": "stream",
     "text": [
      "\n"
     ]
    },
    {
     "name": "stdout",
     "output_type": "stream",
     "text": [
      "token=1; layer=24; accuracy on training data:  1.0\n",
      "\n",
      "\n"
     ]
    }
   ],
   "source": [
    "for t in range(2):\n",
    "    # for layer in range(0, 1):\n",
    "    for layer in range(0, 25):\n",
    "    # for layer in range(24, 25):\n",
    "        \n",
    "        print(f\"token: {t}\\tlayer: {layer}\")\n",
    "        file_names, prompt_names = [], []\n",
    "\n",
    "        for _, row in df.iterrows():\n",
    "            if row['name'] in use_pattern:\n",
    "                file_names.append(f\"{task}/{model}/{module}/{row['name']}/hidden_represenations_t{t}_layer{layer}_avg.hdf5\",)\n",
    "                prompt_names.append(row['name'])\n",
    "\n",
    "        # load hidden representations from hdf5 file\n",
    "        representations = None\n",
    "        classes = []\n",
    "        n_sequences = 0\n",
    "\n",
    "        for idx, file_name in enumerate(file_names):\n",
    "            hidden_representations = load_hidden_representations_from_hdf5(os.path.join(log_dir, file_name))\n",
    "            # print(hidden_representations.shape)\n",
    "            n_sequences = hidden_representations.shape[0]\n",
    "\n",
    "            if representations is None:\n",
    "                representations = hidden_representations\n",
    "            else:\n",
    "                representations = np.concatenate((representations, hidden_representations), axis=0)\n",
    "\n",
    "            classes += n_sequences * [idx] # assign representations to classes\n",
    "        \n",
    "        classes = np.asarray(classes)\n",
    "\n",
    "        # shuffle representations and classes\n",
    "        X, y = unison_shuffled_copies(representations, classes)\n",
    "        print(X.shape, y.shape)\n",
    "\n",
    "        # train linear classifier\n",
    "        # multi_class='multinomial' uses a CE loss\n",
    "        print('classifying between:', prompt_names)\n",
    "        clf = LogisticRegression(random_state=0, max_iter=2000, multi_class='multinomial').fit(X, y)\n",
    "        \n",
    "        print(f'token={t}; layer={layer}; accuracy on training data: ', clf.score(X, y))\n",
    "        print('\\n')\n",
    "\n"
   ]
  },
  {
   "cell_type": "code",
   "execution_count": null,
   "metadata": {},
   "outputs": [],
   "source": []
  }
 ],
 "metadata": {
  "interpreter": {
   "hash": "d4d1e4263499bec80672ea0156c357c1ee493ec2b1c70f0acce89fc37c4a6abe"
  },
  "kernelspec": {
   "display_name": "Python 3.6.10 64-bit ('base': conda)",
   "language": "python",
   "name": "python3"
  },
  "language_info": {
   "codemirror_mode": {
    "name": "ipython",
    "version": 3
   },
   "file_extension": ".py",
   "mimetype": "text/x-python",
   "name": "python",
   "nbconvert_exporter": "python",
   "pygments_lexer": "ipython3",
   "version": "3.6.10"
  },
  "orig_nbformat": 4
 },
 "nbformat": 4,
 "nbformat_minor": 2
}
